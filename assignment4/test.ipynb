{
 "cells": [
  {
   "cell_type": "code",
   "execution_count": 4,
   "metadata": {},
   "outputs": [],
   "source": [
    "import pandas as pd\n",
    "names = ['ranking', 'domain','reponse','status']\n",
    "s3TopRequest = pd.read_csv(\"step3-topsites-requests.csv\", names=names)\n",
    "s3OtherRequest = pd.read_csv(\"step3-othersites-requests.csv\", names=names)\n",
    "s3TopAgent = pd.read_csv(\"step3-topsites-useragent.csv\", names=names)\n",
    "s3OtherAgent = pd.read_csv(\"step3-othersites-useragent.csv\", names=names)\n",
    "s3Topsel = pd.read_csv(\"step3-topsites-selenium.csv\", names=names)\n",
    "s3OtherSel = pd.read_csv(\"step3-othersites-selenium.csv\", names=names)\n"
   ]
  },
  {
   "cell_type": "code",
   "execution_count": 5,
   "metadata": {},
   "outputs": [
    {
     "name": "stdout",
     "output_type": "stream",
     "text": [
      "requests top\n",
      "reponse\n",
      "HTTPSonly    535\n",
      "neither      417\n",
      "both          35\n",
      "HTTPonly      13\n",
      "Name: count, dtype: int64\n",
      "\n",
      "\n",
      "requests other\n",
      "reponse\n",
      "neither      438\n",
      "HTTPSonly    424\n",
      "HTTPonly      78\n",
      "both          59\n",
      "Name: count, dtype: int64\n",
      "\n",
      "\n",
      "agnt top\n",
      "reponse\n",
      "HTTPSonly    604\n",
      "neither      368\n",
      "both          18\n",
      "HTTPonly      10\n",
      "Name: count, dtype: int64\n",
      "\n",
      "\n",
      "agnt other\n",
      "reponse\n",
      "HTTPSonly    458\n",
      "neither      396\n",
      "HTTPonly      85\n",
      "both          60\n",
      "Name: count, dtype: int64\n",
      "\n",
      "\n",
      "sel top\n",
      "reponse\n",
      "HTTPSonly    688\n",
      "neither      240\n",
      "both          62\n",
      "HTTPonly      10\n",
      "Name: count, dtype: int64\n",
      "\n",
      "\n",
      "sel other\n",
      "reponse\n",
      "HTTPSonly    674\n",
      "both         142\n",
      "neither      120\n",
      "HTTPonly      63\n",
      "Name: count, dtype: int64\n"
     ]
    }
   ],
   "source": [
    "print(\"requests top\")\n",
    "print(s3TopRequest['reponse'].value_counts())\n",
    "\n",
    "print(\"\\n\")\n",
    "print(\"requests other\")\n",
    "print(s3OtherRequest['reponse'].value_counts())\n",
    "\n",
    "print(\"\\n\")\n",
    "print(\"agnt top\")\n",
    "print(s3TopAgent['reponse'].value_counts())\n",
    "\n",
    "print(\"\\n\")\n",
    "print(\"agnt other\")\n",
    "print(s3OtherAgent['reponse'].value_counts())\n",
    "\n",
    "\n",
    "print(\"\\n\")\n",
    "print(\"sel top\")\n",
    "print(s3Topsel['reponse'].value_counts())\n",
    "\n",
    "print(\"\\n\")\n",
    "print(\"sel other\")\n",
    "print(s3OtherSel['reponse'].value_counts())\n",
    "\n",
    "\n"
   ]
  }
 ],
 "metadata": {
  "kernelspec": {
   "display_name": "a4",
   "language": "python",
   "name": "python3"
  },
  "language_info": {
   "codemirror_mode": {
    "name": "ipython",
    "version": 3
   },
   "file_extension": ".py",
   "mimetype": "text/x-python",
   "name": "python",
   "nbconvert_exporter": "python",
   "pygments_lexer": "ipython3",
   "version": "3.11.3"
  },
  "orig_nbformat": 4
 },
 "nbformat": 4,
 "nbformat_minor": 2
}
